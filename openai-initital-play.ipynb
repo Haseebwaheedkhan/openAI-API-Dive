{
 "cells": [
  {
   "cell_type": "code",
   "execution_count": 5,
   "id": "8879c4c9",
   "metadata": {},
   "outputs": [],
   "source": [
    "# Installing the openai\n",
    "# pip install openai \n",
    "import openai\n",
    "import os"
   ]
  },
  {
   "cell_type": "code",
   "execution_count": 3,
   "id": "e45cb704",
   "metadata": {},
   "outputs": [
    {
     "data": {
      "text/plain": [
       "'temp_key'"
      ]
     },
     "execution_count": 3,
     "metadata": {},
     "output_type": "execute_result"
    }
   ],
   "source": [
    "os.environ['OPENAI_API_KEY'] = 'temp_key'\n",
    "os.getenv('OPENAI_API_KEY') # This will returns the enviroment variable values that was passed\n",
    "# in in the first command i.e os.environ so I will save the value of my secret key in environ variable and then remove it"
   ]
  },
  {
   "cell_type": "code",
   "execution_count": 7,
   "id": "3b87e015",
   "metadata": {},
   "outputs": [],
   "source": [
    "# Method 1 \n",
    "# os.environ['OPEN_API_KEY'] = ''\n",
    "# openai.api_key = os.getenv('OPEN_API_KEY')"
   ]
  },
  {
   "cell_type": "code",
   "execution_count": 12,
   "id": "5c714def",
   "metadata": {},
   "outputs": [],
   "source": [
    "# Method 2 \n",
    "# Save the key in a seperate file and read it directly\n",
    "openai.api_key = open('key.txt').read()"
   ]
  },
  {
   "cell_type": "code",
   "execution_count": 25,
   "id": "997ae2f9",
   "metadata": {},
   "outputs": [],
   "source": [
    "# Selecting GPT Model by reading documentation from following link\n",
    "# https://platform.openai.com/docs/models/overview\n",
    "# text-ada-001  #Fastest\n",
    "# davinci       # Most accurate\n",
    "# temperature mesures the randomness of response i.e high value equals to less accurate response \n",
    "# range between 0 and 1\n",
    "# max_tokens = max value for gpt-3 is 2049 tokens so value should be choosed less then or equal to max value\n",
    "# Note: temperature and max_tokens are opetional parameters\n",
    "\n",
    "# prompt = 'how many ghazwa mentioned in quran'\n",
    "prompt = 'What is the motto of football team'\n",
    "response = openai.Completion.create(\n",
    "    model = 'text-davinci-003',\n",
    "    prompt=prompt,\n",
    "    temperature=0.8,\n",
    "    max_tokens=1000\n",
    ")"
   ]
  },
  {
   "cell_type": "code",
   "execution_count": 27,
   "id": "903a5b41",
   "metadata": {},
   "outputs": [
    {
     "name": "stdout",
     "output_type": "stream",
     "text": [
      "{'choices': [{' finish_reason': 'stop', 'index': 0, 'logprobs': 'null', 'text': '\\n\\n\"Teamwork Makes The Dream Work!\"'}], 'created': 167836734, 'id': 'cmpl-6sCecZw5IgQSkRIOkHKLAdfdvAZ3NX', 'model': 'text-davinchi-003', 'object': 'text_completion', 'usage': {'completion_tokens': 10, 'prompt_tokens': 7, 'total_tokens': 17}}\n"
     ]
    }
   ],
   "source": [
    "print(response) "
   ]
  },
  {
   "cell_type": "code",
   "execution_count": 28,
   "id": "6daa2121",
   "metadata": {},
   "outputs": [
    {
     "name": "stdout",
     "output_type": "stream",
     "text": [
      "\n",
      "\n",
      "\"Teamwork Makes The Dream Work!\"\n"
     ]
    }
   ],
   "source": [
    "r = response['choices'][0]['text']\n",
    "print(r)"
   ]
  },
  {
   "cell_type": "code",
   "execution_count": null,
   "id": "e06c9c46",
   "metadata": {},
   "outputs": [],
   "source": []
  }
 ],
 "metadata": {
  "kernelspec": {
   "display_name": "Python 3 (ipykernel)",
   "language": "python",
   "name": "python3"
  },
  "language_info": {
   "codemirror_mode": {
    "name": "ipython",
    "version": 3
   },
   "file_extension": ".py",
   "mimetype": "text/x-python",
   "name": "python",
   "nbconvert_exporter": "python",
   "pygments_lexer": "ipython3",
   "version": "3.9.13"
  }
 },
 "nbformat": 4,
 "nbformat_minor": 5
}
